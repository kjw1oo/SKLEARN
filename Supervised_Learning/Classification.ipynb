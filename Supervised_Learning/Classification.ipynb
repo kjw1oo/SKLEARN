{
 "cells": [
  {
   "cell_type": "code",
   "execution_count": 1,
   "metadata": {
    "collapsed": true
   },
   "outputs": [],
   "source": [
    "import sklearn\n",
    "import pandas as pd\n",
    "import numpy as np\n",
    "import mglearn\n",
    "import matplotlib.pyplot as plt\n",
    "import seaborn as sns\n",
    "%matplotlib inline"
   ]
  },
  {
   "cell_type": "markdown",
   "metadata": {},
   "source": [
    "# 분류형 선형 모델\n",
    "### 이진 분류(Binary Classification)\n",
    "- 예측의 위한 방정식은 선형회귀와 유사하ㅏ다. \n",
    "- 예측한 값을 임계치와 비교하여 임계치보다 작으면 0, 아니면 1이라고 판단하여 분류한다. (보통 여기서 사용하는 식은 sigmoid)\n",
    "- 분류형 선형 모델에서는 결정 경계가 선형함수이다. \n",
    "- 대표적인 선형 분류 알고리즘은 로지스틱 회귀와 선형 서포트 벡터 머신이 있다. \n"
   ]
  },
  {
   "cell_type": "markdown",
   "metadata": {},
   "source": [
    "## Logistic 회귀분석\n",
    "## SVM(Support Vector Machine)\n"
   ]
  },
  {
   "cell_type": "code",
   "execution_count": 2,
   "metadata": {},
   "outputs": [
    {
     "data": {
      "text/plain": [
       "<matplotlib.legend.Legend at 0x240ceb9b048>"
      ]
     },
     "execution_count": 2,
     "metadata": {},
     "output_type": "execute_result"
    },
    {
     "data": {
      "image/png": "[encoded data removed]",
      "text/plain": [
       "<matplotlib.figure.Figure at 0x240d3d6f5f8>"
      ]
     },
     "metadata": {},
     "output_type": "display_data"
    }
   ],
   "source": [
    "from sklearn.linear_model import LogisticRegression\n",
    "from sklearn.svm import LinearSVC\n",
    "\n",
    "X, y = mglearn.datasets.make_forge()\n",
    "\n",
    "fig, axes = plt.subplots(1, 2, figsize=(10, 3))\n",
    "\n",
    "for model, ax in zip([LinearSVC(), LogisticRegression()], axes):\n",
    "    clf = model.fit(X, y)\n",
    "    mglearn.plots.plot_2d_separator(clf, X, fill=False, eps = 0.5, ax= ax, alpha=.7)\n",
    "    mglearn.discrete_scatter(X[:, 0], X[:, 1], ax=ax)\n",
    "    ax.set_title(\"{}\".format(clf.__class__.__name__))\n",
    "    ax.set_xlabel(\"특성 0\")\n",
    "    ax.set_ylabel(\"특성 1\")\n",
    "axes[0].legend()"
   ]
  },
  {
   "cell_type": "markdown",
   "metadata": {},
   "source": [
    "- C값은 높아질수록 개개의 데이터포인트들을 분류하려고 하고(overfitting) 낮을수록 느슨하게 분류한다 (underfitting)"
   ]
  },
  {
   "cell_type": "code",
   "execution_count": 3,
   "metadata": {},
   "outputs": [
    {
     "data": {
      "image/png": "[encoded data removed]",
      "text/plain": [
       "<matplotlib.figure.Figure at 0x240d1c27550>"
      ]
     },
     "metadata": {},
     "output_type": "display_data"
    }
   ],
   "source": [
    "mglearn.plots.plot_linear_svc_regularization()"
   ]
  },
  {
   "cell_type": "markdown",
   "metadata": {},
   "source": [
    "## More detail about Logistic Regression"
   ]
  },
  {
   "cell_type": "code",
   "execution_count": 4,
   "metadata": {},
   "outputs": [
    {
     "ename": "NameError",
     "evalue": "name 'train_test_split' is not defined",
     "output_type": "error",
     "traceback": [
      "\u001b[0;31m---------------------------------------------------------------------------\u001b[0m",
      "\u001b[0;31mNameError\u001b[0m                                 Traceback (most recent call last)",
      "\u001b[0;32m<ipython-input-4-79bf8408547d>\u001b[0m in \u001b[0;36m<module>\u001b[0;34m()\u001b[0m\n\u001b[1;32m      1\u001b[0m \u001b[1;32mfrom\u001b[0m \u001b[0msklearn\u001b[0m\u001b[1;33m.\u001b[0m\u001b[0mdatasets\u001b[0m \u001b[1;32mimport\u001b[0m \u001b[0mload_breast_cancer\u001b[0m\u001b[1;33m\u001b[0m\u001b[0m\n\u001b[1;32m      2\u001b[0m \u001b[0mcancer\u001b[0m \u001b[1;33m=\u001b[0m \u001b[0mload_breast_cancer\u001b[0m\u001b[1;33m(\u001b[0m\u001b[1;33m)\u001b[0m\u001b[1;33m\u001b[0m\u001b[0m\n\u001b[0;32m----> 3\u001b[0;31m \u001b[0mX_train\u001b[0m\u001b[1;33m,\u001b[0m \u001b[0mX_test\u001b[0m\u001b[1;33m,\u001b[0m \u001b[0my_train\u001b[0m\u001b[1;33m,\u001b[0m \u001b[0my_test\u001b[0m \u001b[1;33m=\u001b[0m \u001b[0mtrain_test_split\u001b[0m\u001b[1;33m(\u001b[0m\u001b[0mcancer\u001b[0m\u001b[1;33m.\u001b[0m\u001b[0mdata\u001b[0m\u001b[1;33m,\u001b[0m \u001b[0mcancer\u001b[0m\u001b[1;33m.\u001b[0m\u001b[0mtarget\u001b[0m\u001b[1;33m,\u001b[0m \u001b[0mstratify\u001b[0m\u001b[1;33m=\u001b[0m\u001b[0mcancer\u001b[0m\u001b[1;33m.\u001b[0m\u001b[0mtarget\u001b[0m\u001b[1;33m,\u001b[0m \u001b[0mrandom_state\u001b[0m\u001b[1;33m=\u001b[0m\u001b[1;36m42\u001b[0m\u001b[1;33m)\u001b[0m\u001b[1;33m\u001b[0m\u001b[0m\n\u001b[0m\u001b[1;32m      4\u001b[0m \u001b[1;33m\u001b[0m\u001b[0m\n\u001b[1;32m      5\u001b[0m \u001b[0mlogreg\u001b[0m \u001b[1;33m=\u001b[0m \u001b[0mLogisticRegression\u001b[0m\u001b[1;33m(\u001b[0m\u001b[1;33m)\u001b[0m\u001b[1;33m.\u001b[0m\u001b[0mfit\u001b[0m\u001b[1;33m(\u001b[0m\u001b[0mX_train\u001b[0m\u001b[1;33m,\u001b[0m \u001b[0my_train\u001b[0m\u001b[1;33m)\u001b[0m\u001b[1;33m\u001b[0m\u001b[0m\n",
      "\u001b[0;31mNameError\u001b[0m: name 'train_test_split' is not defined"
     ]
    }
   ],
   "source": [
    "from sklearn.datasets import load_breast_cancer\n",
    "cancer = load_breast_cancer()\n",
    "X_train, X_test, y_train, y_test = train_test_split(cancer.data, cancer.target, stratify=cancer.target, random_state=42)\n",
    "\n",
    "logreg = LogisticRegression().fit(X_train, y_train)\n",
    "print('훈련 세트 점수 : {:.2f}'.format(logreg.score(X_train, y_train)))\n",
    "print('테스트 세트 점수 : {:.2f}'.format(logreg.score(X_test, y_test)))"
   ]
  },
  {
   "cell_type": "code",
   "execution_count": null,
   "metadata": {},
   "outputs": [],
   "source": [
    "logreg100 = LogisticRegression(C=100).fit(X_train, y_train)\n",
    "print('훈련 세트 점수 : {:.2f}'.format(logreg100.score(X_train, y_train)))\n",
    "print('테스트 세트 점수 : {:.2f}'.format(logreg100.score(X_test, y_test)))"
   ]
  },
  {
   "cell_type": "code",
   "execution_count": null,
   "metadata": {},
   "outputs": [],
   "source": [
    "logreg001 = LogisticRegression(C=0.01).fit(X_train, y_train)\n",
    "print('훈련 세트 점수 : {:.2f}'.format(logreg001.score(X_train, y_train)))\n",
    "print('테스트 세트 점수 : {:.2f}'.format(logreg001.score(X_test, y_test)))"
   ]
  },
  {
   "cell_type": "code",
   "execution_count": null,
   "metadata": {},
   "outputs": [],
   "source": [
    "plt.plot(logreg.coef_.T, 'o', label = 'c=1')\n",
    "plt.plot(logreg100.coef_.T, '^', label = 'c=100')\n",
    "plt.plot(logreg001.coef_.T, 'v', label = 'c=0.01')\n",
    "\n",
    "plt.xticks(range(cancer.data.shape[1]), cancer.feature_names, rotation=90)\n",
    "plt.hlines(0, 0, cancer.data.shape[1])\n",
    "plt.ylim(-5, 5)\n",
    "plt.xlabel('feature')\n",
    "plt.ylabel('coefficient')\n",
    "plt.legend()\n",
    "\n",
    "# 로지스틱회귀는 기본적으로 L2규제를 적용하므로 릿지회귀와 비슷한 모습을 보인다.\n",
    "#C= 100, C=1일때 계수는 음수지만 C=0.01일때는 양수가 되고 절댓값도 크다. 이를 해석하면 클래스의 특성의 연관성을 알려줄수 있다.\n",
    "#예를 들면 '높은 Textureerror특성은 악성인 샘플과 관련이 깊다. 그러나 mean perimeter계수의 바뀌는 것으로 보아 높은 mean perimeter\n",
    "# 의 값은 양성이나 악성의 신호 모두가 될 수 있다. 선형모델의 계수는 항상 의심해봐야하고 조심해서 해석해야 한다. "
   ]
  },
  {
   "cell_type": "code",
   "execution_count": null,
   "metadata": {},
   "outputs": [],
   "source": [
    "for C, marker in zip([0.001, 1, 100], ['o', 'v', '^']):\n",
    "    logistic = LogisticRegression(C=C, penalty='l1').fit(X_train, y_train)\n",
    "    print(\"C = {:.3f}인 L1 로지스틱 회귀의 훈련정확도: {:.2f}\".format(C, logistic.score(X_train, y_train)))\n",
    "    print(\"C = {:.3f}인 L1 로지스틱 회귀의 테스트정확도: {:.2f}\".format(C, logistic.score(X_test, y_test)))\n",
    "    plt.plot(logistic.coef_.T, marker, label = 'C={:.3f}'.format(C))\n",
    "plt.xticks(range(cancer.data.shape[1]), cancer.feature_names, rotation = 90)\n",
    "plt.hlines(0, 0, cancer.data.shape[1])\n",
    "plt.xlabel('features')\n",
    "plt.ylabel('Coefficients')\n",
    "\n",
    "plt.ylim(-5, 5)\n",
    "plt.legend()"
   ]
  },
  {
   "cell_type": "markdown",
   "metadata": {
    "collapsed": true
   },
   "source": [
    "# 다중 클래스 분류용 선형 모델\n",
    "\n",
    "### one vs rest 방법\n",
    "- 각 클래스를 다른 모든 클래스와 구분하도로고 학습시키고, 클래스의 수 만큼 이진 분류를 진행한다.\n",
    "- 이렇게 만들어진 모든 이진 분류기가 작동하여 가장 높은 점수를 내는 분류기의 클래스를 예측값으로 선택한다. \n",
    "- 클래스별로 이진 분류기를 만들어지면 weight와 bias가 클래스 숫자만큼 나타나게 된다."
   ]
  },
  {
   "cell_type": "markdown",
   "metadata": {},
   "source": [
    "- 다중클래스에서 로지스틱 회귀분석은 sigmoid 함수대신 softmax 함수를 사용한다. \n",
    "- 소프트맥스의 계산은pr(y(i) =c) =  e^(W(c) * x(i))/summation(e^(W(k) * x(i)) 로 이루어지며 sigmoid와 마찬가지로 확률형태로 나타난다. \n"
   ]
  },
  {
   "cell_type": "markdown",
   "metadata": {},
   "source": [
    "\\begin{equation*}\n",
    "P(Y_i = c)=\\frac{e^{W_c X_i + b}}{\\sum_{k=1}^n e^{W_k X_i + b}}\n",
    "\\end{equation*}"
   ]
  },
  {
   "cell_type": "code",
   "execution_count": null,
   "metadata": {},
   "outputs": [],
   "source": [
    "from sklearn.datasets import make_blobs\n",
    "\n",
    "X, y = make_blobs(random_state = 42)\n",
    "mglearn.discrete_scatter(X[:, 0], X[:, 1], y)\n",
    "plt.xlabel('feature 0')\n",
    "plt.ylabel('feature 1')\n",
    "plt.legend(['class 1', 'class2', 'class3'])"
   ]
  },
  {
   "cell_type": "markdown",
   "metadata": {},
   "source": [
    "# LinearSVC\n"
   ]
  },
  {
   "cell_type": "code",
   "execution_count": null,
   "metadata": {},
   "outputs": [],
   "source": [
    "linear_svm = LinearSVC().fit(X, y)\n",
    "print('계수 배열 크기 :', linear_svm.coef_.shape)\n",
    "print('절편 배열 크기 :', linear_svm.intercept_.shape)"
   ]
  },
  {
   "cell_type": "code",
   "execution_count": null,
   "metadata": {},
   "outputs": [],
   "source": [
    "mglearn.discrete_scatter(X[:, 0], X[:, 1], y)\n",
    "line = np.linspace(-15, 15)\n",
    "for coef, intercept, color in zip(linear_svm.coef_, linear_svm.intercept_, mglearn.cm3.colors):\n",
    "    plt.plot(line, -(line * coef[0] + intercept)/ coef[1], c=color)\n",
    "plt.ylim(-10, 15)\n",
    "plt.xlim(-10, 8)\n",
    "plt.xlabel('feature 0')\n",
    "plt.xlabel('feature 1')\n",
    "plt.legend(['class 0', 'class 1', 'class 3', 'class 0 Boundary', 'class 1 Boundary', 'class 3 Boundary'])"
   ]
  },
  {
   "cell_type": "markdown",
   "metadata": {},
   "source": [
    "- 훈련데이터의 각 클래스에 속한 모든 포인트는 각 클래스를 구분하는 직선을 경계로 나머지 포인트 들과 구분된다. \n"
   ]
  },
  {
   "cell_type": "code",
   "execution_count": null,
   "metadata": {},
   "outputs": [],
   "source": [
    "mglearn.plots.plot_2d_classification(linear_svm, X, fill=True, alpha=0.7)\n",
    "mglearn.discrete_scatter(X[:, 0], X[:, 1], y)\n",
    "line = np.linspace(-15, 15)\n",
    "for coef, intercept, color in zip(linear_svm.coef_, linear_svm.intercept_, mglearn.cm3.colors):\n",
    "    plt.plot(line, -(line * coef[0] + intercept) / coef[1], c = color)\n",
    "plt.ylim(-10, 15)\n",
    "plt.xlim(-10, 8)\n",
    "plt.xlabel('feature 0')\n",
    "plt.xlabel('feature 1')\n",
    "plt.legend(['class 0', 'class 1', 'class 3', 'class 0 Boundary', 'class 1 Boundary', 'class 3 Boundary'])   "
   ]
  },
  {
   "cell_type": "markdown",
   "metadata": {},
   "source": [
    "## 장단점과 매개변수\n",
    "- 선형 모델의 주요 매개변수는 회귀 모델에서는 alpha였고, LinearSVC와 LogisticRegression에서는 C이다\n",
    "- alpha값이 클수록, C값이 작을 수록 모델이 단순해진다.\n",
    "- 중요한 특성이 많지 않다고 생각하면 L1규제를 사용하고, 그렇지 않으면 기본적으로 L2규제를 사용한다. \n",
    "- L1 규제는 모델의 몇 가지 특성만 사용하므로, 해당 모델에 중요한 특성이 무엇이고 그 효과가 어느 정도인지 설명가능\n",
    "- solver 매개변수에 'sag'옵션을 사용하면 Stochastic Average Gradient Descent(확률적 평균 강사 하강법)을 사용, 반복이 진행될때 이전에 구한 경사의 평균을 사용하여 계수를 갱신하기 때문에 학습이 빨라진다. "
   ]
  },
  {
   "cell_type": "markdown",
   "metadata": {},
   "source": [
    "# 나이브 베이즈(Naive Bayes) 분류기\n",
    "- 로지스틱 회귀와 LinearSVC에 비해 훈련 속도가 빠르지만, 일반화 성능이 약간 낮음\n",
    "- 각 특성을 개별로 취급해 파라미터를 학습하고 각 특성에서 클래스 별 통계를 단순하게 취합한다. \n",
    "- sklearn의 나이브 베이즈는 GaussianNB, BernoulliNB, MultinomialNB가 있다. \n",
    "- GaussianNB : 연속적인 어떤 데이터에도 적용가능 / 클래스별로 각 특성의 표준편차와 평균 / 매우 고차원적인 데이터셋에 사용\n",
    "- BernoulliNB : 이진데이터에 적용 가능\n",
    "- MultinomialNB: 카운트 데이터에 적용 가능 / 클래스 별로 특성의 평균 계산\n",
    "- BernoulliNB, MultinomialNB 는 보통 텍스트 데이터같은 희소한 데이터를 분류하는데에 사용함."
   ]
  },
  {
   "cell_type": "code",
   "execution_count": null,
   "metadata": {
    "collapsed": true
   },
   "outputs": [],
   "source": [
    "X = np.array([[0, 1, 0, 1],\n",
    "              [1, 0, 1, 1],\n",
    "              [0, 0, 0, 1],\n",
    "              [1, 0, 1, 0]])\n",
    "y = np.array([0, 1, 0, 1])"
   ]
  },
  {
   "cell_type": "code",
   "execution_count": null,
   "metadata": {
    "scrolled": true
   },
   "outputs": [],
   "source": [
    "counts = {}\n",
    "for label in np.unique(y):\n",
    "    #클래스마다 반복\n",
    "    # 특성마다 1이 나타난 횟수를 센다\n",
    "    counts[label] = X[y == label].sum(axis = 0)\n",
    "print('특성 카운트 : \\n{}'.format(counts))"
   ]
  },
  {
   "cell_type": "markdown",
   "metadata": {},
   "source": [
    "#  장단점과 매개변수\n",
    "- BernoulliNB, MultinomialNB는 모델의 복잡도를 조절하는 alpha 매개변수 하나이다. \n",
    "- 알고리즘이 모든 특성에 양의 값을 가진 가상의 데이터 포인트를 alpha 개수만큼 추가함으로써 통계 데이터를 완만하게 만들어준다. \n",
    "- alpha가 크면 더 완만해지고 모델의 복잡도는 낮아진다. \n",
    "- alpha값에 따라 성능 변동은 크지 않으나, 어느정도 정확도를 높일 수 있다. "
   ]
  },
  {
   "cell_type": "code",
   "execution_count": null,
   "metadata": {
    "collapsed": true
   },
   "outputs": [],
   "source": [
    "# 분류형 선형 모델\n",
    "### 이진 분류(Binary Classification)\n",
    "- 예측의 위한 방정식은 선형회귀와 유사하ㅏ다. \n",
    "- 예측한 값을 임계치와 비교하여 임계치보다 작으면 0, 아니면 1이라고 판단하여 분류한다. (보통 여기서 사용하는 식은 sigmoid)\n",
    "- 분류형 선형 모델에서는 결정 경계가 선형함수이다. \n",
    "- 대표적인 선형 분류 알고리즘은 로지스틱 회귀와 선형 서포트 벡터 머신이 있다. \n",
    "\n",
    "\n",
    "## Logistic 회귀분석\n",
    "## SVM(Support Vector Machine)\n",
    "\n",
    "\n",
    "from sklearn.linear_model import LogisticRegression\n",
    "from sklearn.svm import LinearSVC\n",
    "\n",
    "X, y = mglearn.datasets.make_forge()\n",
    "\n",
    "fig, axes = plt.subplots(1, 2, figsize=(10, 3))\n",
    "\n",
    "for model, ax in zip([LinearSVC(), LogisticRegression()], axes):\n",
    "    clf = model.fit(X, y)\n",
    "    mglearn.plots.plot_2d_separator(clf, X, fill=False, eps = 0.5, ax= ax, alpha=.7)\n",
    "    mglearn.discrete_scatter(X[:, 0], X[:, 1], ax=ax)\n",
    "    ax.set_title(\"{}\".format(clf.__class__.__name__))\n",
    "    ax.set_xlabel(\"특성 0\")\n",
    "    ax.set_ylabel(\"특성 1\")\n",
    "axes[0].legend()\n",
    "\n",
    "- C값은 높아질수록 개개의 데이터포인트들을 분류하려고 하고(overfitting) 낮을수록 느슨하게 분류한다 (underfitting)\n",
    "\n",
    "mglearn.plots.plot_linear_svc_regularization()\n",
    "\n",
    "## More detail about Logistic Regression\n",
    "\n",
    "from sklearn.datasets import load_breast_cancer\n",
    "cancer = load_breast_cancer()\n",
    "X_train, X_test, y_train, y_test = train_test_split(cancer.data, cancer.target, stratify=cancer.target, random_state=42)\n",
    "\n",
    "logreg = LogisticRegression().fit(X_train, y_train)\n",
    "print('훈련 세트 점수 : {:.2f}'.format(logreg.score(X_train, y_train)))\n",
    "print('테스트 세트 점수 : {:.2f}'.format(logreg.score(X_test, y_test)))\n",
    "\n",
    "logreg100 = LogisticRegression(C=100).fit(X_train, y_train)\n",
    "print('훈련 세트 점수 : {:.2f}'.format(logreg100.score(X_train, y_train)))\n",
    "print('테스트 세트 점수 : {:.2f}'.format(logreg100.score(X_test, y_test)))\n",
    "\n",
    "logreg001 = LogisticRegression(C=0.01).fit(X_train, y_train)\n",
    "print('훈련 세트 점수 : {:.2f}'.format(logreg001.score(X_train, y_train)))\n",
    "print('테스트 세트 점수 : {:.2f}'.format(logreg001.score(X_test, y_test)))\n",
    "\n",
    "plt.plot(logreg.coef_.T, 'o', label = 'c=1')\n",
    "plt.plot(logreg100.coef_.T, '^', label = 'c=100')\n",
    "plt.plot(logreg001.coef_.T, 'v', label = 'c=0.01')\n",
    "\n",
    "plt.xticks(range(cancer.data.shape[1]), cancer.feature_names, rotation=90)\n",
    "plt.hlines(0, 0, cancer.data.shape[1])\n",
    "plt.ylim(-5, 5)\n",
    "plt.xlabel('feature')\n",
    "plt.ylabel('coefficient')\n",
    "plt.legend()\n",
    "\n",
    "# 로지스틱회귀는 기본적으로 L2규제를 적용하므로 릿지회귀와 비슷한 모습을 보인다.\n",
    "#C= 100, C=1일때 계수는 음수지만 C=0.01일때는 양수가 되고 절댓값도 크다. 이를 해석하면 클래스의 특성의 연관성을 알려줄수 있다.\n",
    "#예를 들면 '높은 Textureerror특성은 악성인 샘플과 관련이 깊다. 그러나 mean perimeter계수의 바뀌는 것으로 보아 높은 mean perimeter\n",
    "# 의 값은 양성이나 악성의 신호 모두가 될 수 있다. 선형모델의 계수는 항상 의심해봐야하고 조심해서 해석해야 한다. \n",
    "\n",
    "for C, marker in zip([0.001, 1, 100], ['o', 'v', '^']):\n",
    "    logistic = LogisticRegression(C=C, penalty='l1').fit(X_train, y_train)\n",
    "    print(\"C = {:.3f}인 L1 로지스틱 회귀의 훈련정확도: {:.2f}\".format(C, logistic.score(X_train, y_train)))\n",
    "    print(\"C = {:.3f}인 L1 로지스틱 회귀의 테스트정확도: {:.2f}\".format(C, logistic.score(X_test, y_test)))\n",
    "    plt.plot(logistic.coef_.T, marker, label = 'C={:.3f}'.format(C))\n",
    "plt.xticks(range(cancer.data.shape[1]), cancer.feature_names, rotation = 90)\n",
    "plt.hlines(0, 0, cancer.data.shape[1])\n",
    "plt.xlabel('features')\n",
    "plt.ylabel('Coefficients')\n",
    "\n",
    "plt.ylim(-5, 5)\n",
    "plt.legend()\n",
    "\n",
    "# 다중 클래스 분류용 선형 모델\n",
    "\n",
    "### one vs rest 방법\n",
    "- 각 클래스를 다른 모든 클래스와 구분하도로고 학습시키고, 클래스의 수 만큼 이진 분류를 진행한다.\n",
    "- 이렇게 만들어진 모든 이진 분류기가 작동하여 가장 높은 점수를 내는 분류기의 클래스를 예측값으로 선택한다. \n",
    "- 클래스별로 이진 분류기를 만들어지면 weight와 bias가 클래스 숫자만큼 나타나게 된다.\n",
    "\n",
    "- 다중클래스에서 로지스틱 회귀분석은 sigmoid 함수대신 softmax 함수를 사용한다. \n",
    "- 소프트맥스의 계산은pr(y(i) =c) =  e^(W(c) * x(i))/summation(e^(W(k) * x(i)) 로 이루어지며 sigmoid와 마찬가지로 확률형태로 나타난다. \n",
    "\n",
    "\n",
    "\\begin{equation*}\n",
    "P(Y_i = c)=\\frac{e^{W_c X_i + b}}{\\sum_{k=1}^n e^{W_k X_i + b}}\n",
    "\\end{equation*}\n",
    "\n",
    "from sklearn.datasets import make_blobs\n",
    "\n",
    "X, y = make_blobs(random_state = 42)\n",
    "mglearn.discrete_scatter(X[:, 0], X[:, 1], y)\n",
    "plt.xlabel('feature 0')\n",
    "plt.ylabel('feature 1')\n",
    "plt.legend(['class 1', 'class2', 'class3'])\n",
    "\n",
    "# LinearSVC\n",
    "\n",
    "\n",
    "linear_svm = LinearSVC().fit(X, y)\n",
    "print('계수 배열 크기 :', linear_svm.coef_.shape)\n",
    "print('절편 배열 크기 :', linear_svm.intercept_.shape)\n",
    "\n",
    "mglearn.discrete_scatter(X[:, 0], X[:, 1], y)\n",
    "line = np.linspace(-15, 15)\n",
    "for coef, intercept, color in zip(linear_svm.coef_, linear_svm.intercept_, mglearn.cm3.colors):\n",
    "    plt.plot(line, -(line * coef[0] + intercept)/ coef[1], c=color)\n",
    "plt.ylim(-10, 15)\n",
    "plt.xlim(-10, 8)\n",
    "plt.xlabel('feature 0')\n",
    "plt.xlabel('feature 1')\n",
    "plt.legend(['class 0', 'class 1', 'class 3', 'class 0 Boundary', 'class 1 Boundary', 'class 3 Boundary'])\n",
    "\n",
    "- 훈련데이터의 각 클래스에 속한 모든 포인트는 각 클래스를 구분하는 직선을 경계로 나머지 포인트 들과 구분된다. \n",
    "\n",
    "\n",
    "mglearn.plots.plot_2d_classification(linear_svm, X, fill=True, alpha=0.7)\n",
    "mglearn.discrete_scatter(X[:, 0], X[:, 1], y)\n",
    "line = np.linspace(-15, 15)\n",
    "for coef, intercept, color in zip(linear_svm.coef_, linear_svm.intercept_, mglearn.cm3.colors):\n",
    "    plt.plot(line, -(line * coef[0] + intercept) / coef[1], c = color)\n",
    "plt.ylim(-10, 15)\n",
    "plt.xlim(-10, 8)\n",
    "plt.xlabel('feature 0')\n",
    "plt.xlabel('feature 1')\n",
    "plt.legend(['class 0', 'class 1', 'class 3', 'class 0 Boundary', 'class 1 Boundary', 'class 3 Boundary'])   \n",
    "\n",
    "## 장단점과 매개변수\n",
    "- 선형 모델의 주요 매개변수는 회귀 모델에서는 alpha였고, LinearSVC와 LogisticRegression에서는 C이다\n",
    "- alpha값이 클수록, C값이 작을 수록 모델이 단순해진다.\n",
    "- 중요한 특성이 많지 않다고 생각하면 L1규제를 사용하고, 그렇지 않으면 기본적으로 L2규제를 사용한다. \n",
    "- L1 규제는 모델의 몇 가지 특성만 사용하므로, 해당 모델에 중요한 특성이 무엇이고 그 효과가 어느 정도인지 설명가능\n",
    "- solver 매개변수에 'sag'옵션을 사용하면 Stochastic Average Gradient Descent(확률적 평균 강사 하강법)을 사용, 반복이 진행될때 이전에 구한 경사의 평균을 사용하여 계수를 갱신하기 때문에 학습이 빨라진다. \n",
    "\n",
    "# 나이브 베이즈(Naive Bayes) 분류기\n",
    "- 로지스틱 회귀와 LinearSVC에 비해 훈련 속도가 빠르지만, 일반화 성능이 약간 낮음\n",
    "- 각 특성을 개별로 취급해 파라미터를 학습하고 각 특성에서 클래스 별 통계를 단순하게 취합한다. \n",
    "- sklearn의 나이브 베이즈는 GaussianNB, BernoulliNB, MultinomialNB가 있다. \n",
    "- GaussianNB : 연속적인 어떤 데이터에도 적용가능 / 클래스별로 각 특성의 표준편차와 평균 / 매우 고차원적인 데이터셋에 사용\n",
    "- BernoulliNB : 이진데이터에 적용 가능\n",
    "- MultinomialNB: 카운트 데이터에 적용 가능 / 클래스 별로 특성의 평균 계산\n",
    "- BernoulliNB, MultinomialNB 는 보통 텍스트 데이터같은 희소한 데이터를 분류하는데에 사용함.\n",
    "\n",
    "X = np.array([[0, 1, 0, 1],\n",
    "              [1, 0, 1, 1],\n",
    "              [0, 0, 0, 1],\n",
    "              [1, 0, 1, 0]])\n",
    "y = np.array([0, 1, 0, 1])\n",
    "\n",
    "counts = {}\n",
    "for label in np.unique(y):\n",
    "    #클래스마다 반복\n",
    "    # 특성마다 1이 나타난 횟수를 센다\n",
    "    counts[label] = X[y == label].sum(axis = 0)\n",
    "print('특성 카운트 : \\n{}'.format(counts))\n",
    "\n",
    "#  장단점과 매개변수\n",
    "- BernoulliNB, MultinomialNB는 모델의 복잡도를 조절하는 alpha 매개변수 하나이다. \n",
    "- 알고리즘이 모든 특성에 양의 값을 가진 가상의 데이터 포인트를 alpha 개수만큼 추가함으로써 통계 데이터를 완만하게 만들어준다. \n",
    "- alpha가 크면 더 완만해지고 모델의 복잡도는 낮아진다. \n",
    "- alpha값에 따라 성능 변동은 크지 않으나, 어느정도 정확도를 높일 수 있다. import sklearn\n",
    "import pandas as pd\n",
    "import numpy as np\n",
    "import mglearn\n",
    "import matplotlib.pyplot as plt\n",
    "import seaborn as sns\n",
    "%matplotlib inline"
   ]
  }
 ],
 "metadata": {
  "kernelspec": {
   "display_name": "Python 3",
   "language": "python",
   "name": "python3"
  },
  "language_info": {
   "codemirror_mode": {
    "name": "ipython",
    "version": 3
   },
   "file_extension": ".py",
   "mimetype": "text/x-python",
   "name": "python",
   "nbconvert_exporter": "python",
   "pygments_lexer": "ipython3",
   "version": "3.6.0"
  }
 },
 "nbformat": 4,
 "nbformat_minor": 2
}
