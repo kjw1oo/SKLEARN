{
 "cells": [
  {
   "cell_type": "code",
   "execution_count": 1,
   "metadata": {
    "collapsed": true
   },
   "outputs": [],
   "source": [
    "import sklearn\n",
    "import pandas as pd\n",
    "import numpy as np\n",
    "import mglearn\n",
    "import matplotlib.pyplot as plt\n",
    "import seaborn as sns\n",
    "%matplotlib inline"
   ]
  },
  {
   "cell_type": "code",
   "execution_count": 2,
   "metadata": {},
   "outputs": [
    {
     "name": "stdout",
     "output_type": "stream",
     "text": [
      "w[0]: 0.393906  b: -0.031804\n"
     ]
    },
    {
     "data": {
      "image/png": "[encoded data removed]",
      "text/plain": [
       "<matplotlib.figure.Figure at 0x1b0c9673be0>"
      ]
     },
     "metadata": {},
     "output_type": "display_data"
    }
   ],
   "source": [
    "mglearn.plots.plot_linear_regression_wave()"
   ]
  },
  {
   "cell_type": "markdown",
   "metadata": {},
   "source": [
    "# 선형 회귀(최소제곱법)\n",
    "\n",
    "- OLS(ordinary least squares)를 이용한 고전적인 선형회귀 기법\n",
    "- MSE(Mean Square Error)를 최소화하는 파라미터 w와 b를 찾는다\n",
    "- MSE는 오차의 제곱합\n"
   ]
  },
  {
   "cell_type": "code",
   "execution_count": 3,
   "metadata": {
    "collapsed": true
   },
   "outputs": [],
   "source": [
    "from sklearn.linear_model import LinearRegression\n",
    "from sklearn.model_selection import train_test_split\n",
    "\n",
    "X, y = mglearn.datasets.make_wave(n_samples =60)\n",
    "X_train, X_test, y_train, y_test = train_test_split(X, y, random_state = 42)\n",
    "\n",
    "lr = LinearRegression().fit(X_train, y_train)"
   ]
  },
  {
   "cell_type": "code",
   "execution_count": 4,
   "metadata": {},
   "outputs": [
    {
     "name": "stdout",
     "output_type": "stream",
     "text": [
      "lr.coef : [ 0.39390555]\n",
      "lr.intercept : -0.03180434302675973\n",
      "훈련 세트 점수 : 0.67\n",
      "테스트 세트 점수 : 0.66\n"
     ]
    }
   ],
   "source": [
    "print('lr.coef : {}'.format(lr.coef_))\n",
    "print('lr.intercept : {}'.format(lr.intercept_))\n",
    "print('훈련 세트 점수 : {:.2f}'.format(lr.score(X_train, y_train)))\n",
    "print('테스트 세트 점수 : {:.2f}'.format(lr.score(X_test, y_test)))"
   ]
  },
  {
   "cell_type": "code",
   "execution_count": 5,
   "metadata": {
    "collapsed": true
   },
   "outputs": [],
   "source": [
    "from sklearn.datasets import load_boston\n",
    "\n",
    "X, y = mglearn.datasets.load_extended_boston()\n",
    "\n",
    "X_train, X_test, y_train, y_test = train_test_split(X, y, random_state = 42)\n",
    "lr = LinearRegression().fit(X_train, y_train)"
   ]
  },
  {
   "cell_type": "code",
   "execution_count": 6,
   "metadata": {},
   "outputs": [
    {
     "name": "stdout",
     "output_type": "stream",
     "text": [
      "lr.coef : [ -4.75050668e+02   7.66248976e+00  -9.55383040e+01   1.33708435e+01\n",
      "   3.77399151e+01   6.14571931e+01   3.45207050e+01  -1.20844469e+00\n",
      "   2.89411288e+00   7.97381567e+01   1.39184091e+01   3.75868123e+01\n",
      "  -2.73954567e+00   1.60075207e+01   6.71246566e+02   1.42025664e+03\n",
      "   2.32122643e+02  -8.92062028e+01   6.87533012e+01  -4.98496442e+00\n",
      "   5.87818767e+01   7.52035243e+02  -1.81075008e+03   5.21676580e+02\n",
      "  -1.80410932e+01   1.00731434e+02  -4.26622200e+00  -1.21271166e+01\n",
      "  -3.70329436e+00  -5.58361945e+01  -7.08769204e-02   8.51265643e+00\n",
      "  -2.05278198e+01  -3.58234147e+01   4.25566751e+01  -3.35963152e+00\n",
      "   1.13184946e+01  -3.25999376e+01   3.72859479e+01  -2.14650482e+00\n",
      "   7.37428237e+00   4.88105086e+01   6.75839169e+00   4.21110920e+01\n",
      "  -7.85387669e+00  -1.98976150e+00  -3.41928334e+00   3.34194555e+01\n",
      "  -1.60278024e+01   1.33708435e+01  -1.80036506e+01  -2.86117967e+01\n",
      "  -2.85803880e+00  -1.04759665e+01   1.25916205e+00  -1.47486907e+00\n",
      "  -7.72662500e+00   5.87470216e+00  -1.07311658e+01  -2.76760525e+01\n",
      "  -1.43596730e+01  -2.00562059e+00   6.41318060e+01  -1.74421221e+01\n",
      "   6.34110773e+01  -6.23319632e+01  -1.09270648e+01   2.03433315e+01\n",
      "   3.22457108e+01  -4.02806008e+01  -2.25561705e+01  -1.85149550e+01\n",
      "  -4.99449703e+01  -2.26586452e+01  -1.07002977e+01   2.34412860e+00\n",
      "  -1.17250759e+00  -1.09476645e-01   3.25924642e+01  -2.59279324e+01\n",
      "   1.29770830e+00  -1.42641303e+01  -3.20984858e+01   5.15618983e+01\n",
      "   2.40431964e+00  -3.51180062e+01  -2.63291472e+01  -2.98447926e+01\n",
      "   1.39586732e+01  -6.62929040e+01   8.50629899e+01  -3.24846504e+01\n",
      "   3.46503343e+01  -2.50979232e+01  -1.60815306e+01   3.23760471e+01\n",
      "  -7.29735295e+01  -1.94896667e+01   3.17283587e+00   1.04356472e+01\n",
      "   3.60549677e+00  -4.46699006e+00   1.94257514e+00   2.72765160e+01]\n",
      "lr.intercept : -34.73023401888807\n",
      "훈련 세트 점수 : 0.94\n",
      "테스트 세트 점수 : 0.79\n"
     ]
    }
   ],
   "source": [
    "print('lr.coef : {}'.format(lr.coef_))\n",
    "print('lr.intercept : {}'.format(lr.intercept_))\n",
    "print('훈련 세트 점수 : {:.2f}'.format(lr.score(X_train, y_train)))\n",
    "print('테스트 세트 점수 : {:.2f}'.format(lr.score(X_test, y_test)))"
   ]
  },
  {
   "cell_type": "markdown",
   "metadata": {},
   "source": [
    "# Ridge Regression\n",
    "- 최소적합법에사용하는 같은 예측 함수를 사용하지만, 릿지 회귀에서의 가중치 선택은 훈련 데이터를 잘 예측하기 위해서 추가 제약 조건을 건다\n",
    "- 모든원소가 0에 가깝게 되는것을 선호한다. \n",
    "- 모든 특성이 출력에 주는 영향을 최소한으로 만드는데 이를 규제(Regularization) 이라고 한다. \n",
    "- 릿지회귀에서는 L2규제를 사용한다. 기존 MSE 식에 alpha * L2 Norm을 더한다. \n",
    "- alpha는 설정가능한데 낮을수록 패널티의 효과가 작아지다가 0이되면 일반적인 선형회귀가 된다.\n",
    "- 훈련세트에서의 점수는 일반 회귀보다 낮지만 테스트 세트에서의 점수는 올라가서 과대적합이 적어졌다고 할수 있다. "
   ]
  },
  {
   "cell_type": "code",
   "execution_count": 7,
   "metadata": {},
   "outputs": [
    {
     "name": "stdout",
     "output_type": "stream",
     "text": [
      "훈련 세트 점수 : 0.87\n",
      "테스트 세트 점수 : 0.81\n"
     ]
    }
   ],
   "source": [
    "from sklearn.linear_model import Ridge\n",
    "\n",
    "ridge = Ridge().fit(X_train, y_train)\n",
    "#print('ridge.coef : {}'.format(ridge.coef_))\n",
    "#print('ridge.intercept : {}'.format(ridge.intercept_))\n",
    "print('훈련 세트 점수 : {:.2f}'.format(ridge.score(X_train, y_train)))\n",
    "print('테스트 세트 점수 : {:.2f}'.format(ridge.score(X_test, y_test)))"
   ]
  },
  {
   "cell_type": "code",
   "execution_count": 8,
   "metadata": {},
   "outputs": [
    {
     "name": "stdout",
     "output_type": "stream",
     "text": [
      "훈련 세트 점수 : 0.77\n",
      "테스트 세트 점수 : 0.73\n"
     ]
    }
   ],
   "source": [
    "ridge10 = Ridge(alpha = 10).fit(X_train, y_train)\n",
    "#print('ridge10.coef : {}'.format(ridge10.coef_))\n",
    "#print('ridge10.intercept : {}'.format(ridge10.intercept_))\n",
    "print('훈련 세트 점수 : {:.2f}'.format(ridge10.score(X_train, y_train)))\n",
    "print('테스트 세트 점수 : {:.2f}'.format(ridge10.score(X_test, y_test)))"
   ]
  },
  {
   "cell_type": "code",
   "execution_count": 9,
   "metadata": {},
   "outputs": [
    {
     "name": "stdout",
     "output_type": "stream",
     "text": [
      "훈련 세트 점수 : 0.92\n",
      "테스트 세트 점수 : 0.82\n"
     ]
    }
   ],
   "source": [
    "ridge01 = Ridge(alpha = 0.1).fit(X_train, y_train)\n",
    "#print('ridge01.coef : {}'.format(ridge01.coef_))\n",
    "#print('ridge01.intercept : {}'.format(ridge01.intercept_))\n",
    "print('훈련 세트 점수 : {:.2f}'.format(ridge01.score(X_train, y_train)))\n",
    "print('테스트 세트 점수 : {:.2f}'.format(ridge01.score(X_test, y_test)))"
   ]
  },
  {
   "cell_type": "code",
   "execution_count": 10,
   "metadata": {},
   "outputs": [
    {
     "data": {
      "text/plain": [
       "<matplotlib.legend.Legend at 0x1b0cec682e8>"
      ]
     },
     "execution_count": 10,
     "metadata": {},
     "output_type": "execute_result"
    },
    {
     "data": {
      "image/png": "[encoded data removed]",
      "text/plain": [
       "<matplotlib.figure.Figure at 0x1b0ce827f28>"
      ]
     },
     "metadata": {},
     "output_type": "display_data"
    }
   ],
   "source": [
    "plt.plot(ridge10.coef_, '^', label = \"Alpha = 10\")\n",
    "plt.plot(ridge01.coef_, 's', label = \"Alpha = 0.1\")\n",
    "plt.plot(ridge.coef_, 'v', label = \"Alpha = 1\")\n",
    "\n",
    "plt.plot(lr.coef_, 'o', label = 'Linear Regression')\n",
    "plt.xlabel('계수 목록')\n",
    "plt.ylabel('계수 크기')\n",
    "plt.hlines(0, 0, len(lr.coef_))\n",
    "plt.ylim(-25, 25)\n",
    "plt.legend()"
   ]
  },
  {
   "cell_type": "code",
   "execution_count": 11,
   "metadata": {},
   "outputs": [
    {
     "data": {
      "image/png": "[encoded data removed]",
      "text/plain": [
       "<matplotlib.figure.Figure at 0x1b0cec62cc0>"
      ]
     },
     "metadata": {},
     "output_type": "display_data"
    }
   ],
   "source": [
    "mglearn.plots.plot_ridge_n_samples()"
   ]
  },
  {
   "cell_type": "markdown",
   "metadata": {},
   "source": [
    "# Lasso 모델\n",
    "- Ridge회귀와 마찬가지로 계수를 0에 가깝게 만든다.\n",
    "- Ridge와 달리 L1규제를 사용하여 MSE값에 alpha * L1 norm을 더해준다.\n",
    "- Lasso 회귀는 계수를 정말 0으로 만들어버린다. \n",
    "- 특성선택이 자동으로 이루진다고 볼 수 있다. "
   ]
  },
  {
   "cell_type": "code",
   "execution_count": 12,
   "metadata": {},
   "outputs": [
    {
     "name": "stdout",
     "output_type": "stream",
     "text": [
      "훈련 세트 점수 : 0.27\n",
      "테스트 세트 점수 : 0.26\n",
      "사용한 특성의 수 : 3\n"
     ]
    }
   ],
   "source": [
    "from sklearn.linear_model import Lasso\n",
    "\n",
    "lasso = Lasso().fit(X_train, y_train)\n",
    "\n",
    "print('훈련 세트 점수 : {:.2f}'.format(lasso.score(X_train, y_train)))\n",
    "print('테스트 세트 점수 : {:.2f}'.format(lasso.score(X_test, y_test)))\n",
    "print('사용한 특성의 수 : {}'.format(np.sum(lasso.coef_ != 0)))\n",
    "\n",
    "# 과소적합"
   ]
  },
  {
   "cell_type": "code",
   "execution_count": 13,
   "metadata": {},
   "outputs": [
    {
     "name": "stdout",
     "output_type": "stream",
     "text": [
      "훈련 세트 점수 : 0.89\n",
      "테스트 세트 점수 : 0.80\n",
      "사용한 특성의 수 : 34\n"
     ]
    }
   ],
   "source": [
    "# 'max_iter' 기본값을 증가시키지 않으면 max_iter을 늘리라는 경고 발생 \n",
    "lasso001 = Lasso(alpha=0.01, max_iter= 100000).fit(X_train, y_train)\n",
    "\n",
    "print('훈련 세트 점수 : {:.2f}'.format(lasso001.score(X_train, y_train)))\n",
    "print('테스트 세트 점수 : {:.2f}'.format(lasso001.score(X_test, y_test)))\n",
    "print('사용한 특성의 수 : {}'.format(np.sum(lasso001.coef_ != 0)))\n"
   ]
  },
  {
   "cell_type": "markdown",
   "metadata": {},
   "source": [
    "- alpha값을 너무 낮추면 규제의 효과가 없어져 과대적합 발생"
   ]
  },
  {
   "cell_type": "code",
   "execution_count": 14,
   "metadata": {},
   "outputs": [
    {
     "name": "stdout",
     "output_type": "stream",
     "text": [
      "훈련 세트 점수 : 0.94\n",
      "테스트 세트 점수 : 0.81\n",
      "사용한 특성의 수 : 94\n"
     ]
    }
   ],
   "source": [
    "# 'max_iter' 기본값을 증가시키지 않으면 max_iter을 늘리라는 경고 발생 \n",
    "lasso00001 = Lasso(alpha=0.0001, max_iter= 100000).fit(X_train, y_train)\n",
    "\n",
    "print('훈련 세트 점수 : {:.2f}'.format(lasso00001.score(X_train, y_train)))\n",
    "print('테스트 세트 점수 : {:.2f}'.format(lasso00001.score(X_test, y_test)))\n",
    "print('사용한 특성의 수 : {}'.format(np.sum(lasso00001.coef_ != 0)))\n"
   ]
  },
  {
   "cell_type": "code",
   "execution_count": 15,
   "metadata": {},
   "outputs": [
    {
     "data": {
      "text/plain": [
       "<matplotlib.legend.Legend at 0x1b0cfa80a58>"
      ]
     },
     "execution_count": 15,
     "metadata": {},
     "output_type": "execute_result"
    },
    {
     "data": {
      "image/png": "[encoded data removed]",
      "text/plain": [
       "<matplotlib.figure.Figure at 0x1b0ced495f8>"
      ]
     },
     "metadata": {},
     "output_type": "display_data"
    }
   ],
   "source": [
    "plt.plot(lasso.coef_, '^', label = 'Lasso alpha=1')\n",
    "plt.plot(lasso001.coef_, 's', label = 'Lasso alpha=0.01')\n",
    "plt.plot(lasso00001.coef_, 'v', label = 'Lasso alpha=0.0001')\n",
    "\n",
    "plt.plot(ridge01.coef_, 'o', label = 'Ridge alpha =0.1')\n",
    "plt.hlines(0, 0,len(ridge.coef_))\n",
    "plt.xlabel('계수 목록')\n",
    "plt.ylabel('계수 크기')\n",
    "plt.ylim(-25, 25)\n",
    "plt.legend(ncol = 2, loc =(0, 1))"
   ]
  },
  {
   "cell_type": "markdown",
   "metadata": {},
   "source": [
    "- 특성이 많고 그중 일부분만 중요하다고 판단되면 Lasso가 좋은 선택이다. \n"
   ]
  },
  {
   "cell_type": "markdown",
   "metadata": {},
   "source": [
    "# ElasticNet\n",
    "- Ridge회귀와 Lasso 회귀를 합친 회귀분석\n",
    "- MSE값에다가 L1과 L2규제를 모두 더하여 계산한다. \n",
    "- 매개변수는 alpha와 L1 ratio가 있는데 규제식은 다음과 같다\n",
    "- alpha * l1_ratio * L1_Norm + 1/2 * alpha * (1 - l1_ratio) * L2_Norm"
   ]
  },
  {
   "cell_type": "code",
   "execution_count": 16,
   "metadata": {},
   "outputs": [
    {
     "name": "stdout",
     "output_type": "stream",
     "text": [
      "훈련 세트 점수 : 0.29\n",
      "테스트 세트 점수 : 0.30\n",
      "사용한 특성의 수 : 34\n"
     ]
    }
   ],
   "source": [
    "from sklearn.linear_model import ElasticNet\n",
    "\n",
    "ENet = ElasticNet().fit(X_train, y_train)\n",
    "\n",
    "print('훈련 세트 점수 : {:.2f}'.format(ENet.score(X_train, y_train)))\n",
    "print('테스트 세트 점수 : {:.2f}'.format(ENet.score(X_test, y_test)))\n",
    "print('사용한 특성의 수 : {}'.format(np.sum(ENet.coef_ != 0)))\n",
    "\n",
    "# 과소적합\n"
   ]
  },
  {
   "cell_type": "code",
   "execution_count": 17,
   "metadata": {},
   "outputs": [
    {
     "name": "stdout",
     "output_type": "stream",
     "text": [
      "훈련 세트 점수 : 0.85\n",
      "테스트 세트 점수 : 0.80\n",
      "사용한 특성의 수 : 70\n"
     ]
    }
   ],
   "source": [
    "ENet = ElasticNet(alpha = 0.01, l1_ratio=0.7).fit(X_train, y_train)\n",
    "\n",
    "print('훈련 세트 점수 : {:.2f}'.format(ENet.score(X_train, y_train)))\n",
    "print('테스트 세트 점수 : {:.2f}'.format(ENet.score(X_test, y_test)))\n",
    "print('사용한 특성의 수 : {}'.format(np.sum(ENet.coef_ != 0)))\n",
    "\n",
    "# 과소적합"
   ]
  }
 ],
 "metadata": {
  "kernelspec": {
   "display_name": "Python 3",
   "language": "python",
   "name": "python3"
  },
  "language_info": {
   "codemirror_mode": {
    "name": "ipython",
    "version": 3
   },
   "file_extension": ".py",
   "mimetype": "text/x-python",
   "name": "python",
   "nbconvert_exporter": "python",
   "pygments_lexer": "ipython3",
   "version": "3.6.0"
  }
 },
 "nbformat": 4,
 "nbformat_minor": 2
}
